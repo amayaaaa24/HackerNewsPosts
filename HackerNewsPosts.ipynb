{
 "cells": [
  {
   "cell_type": "markdown",
   "id": "d573fad9",
   "metadata": {},
   "source": [
    "# Factors Influencing Comment Count on Hacker News\n",
    "\n",
    "__[Hacker News](https://news.ycombinator.com/)__ is a popular online platform and community-driven news website that focuses on topics related to technology, startups, programming, and entrepreneurship. It was created by the startup accelerator [Y Combinator](https://www.ycombinator.com/) and has gained a reputation for hosting insightful discussions and news articles within the tech community.\n",
    "\n",
    "Hacker News operates as a social news platform, enabling registered users to share informative resources. Users have the ability to upvote or downvote submissions based on their quality and relevance. Submissions with the highest upvotes rise to the top of the Hacker News front page, increasing visibility and generating more community engagement. \n",
    "\n",
    "__Our goal__ is to understand what type of posts will gain the most comments and upvots. \n",
    "\n",
    "__Our target__ is the posts titled with `Ask HN` and `Show HN`:\n",
    "`Ask HN`: Users submit posts to ask the Hacker News community a specific question.\n",
    "`Show HN`: posts to show the Hacker News community a project, product, or just something interesting.\n",
    "\n",
    "__Questions to answer:__\n",
    "1. Do `Ask HN` and `Show HN` get more comments on average?\n",
    "2. Do posts created at a certain time receive more cooments on average?\n",
    "\n",
    "Let's first look at what type of data we are dealing with.\n"
   ]
  },
  {
   "cell_type": "markdown",
   "id": "39470f5d",
   "metadata": {},
   "source": [
    "## Data"
   ]
  },
  {
   "cell_type": "code",
   "execution_count": 1,
   "id": "a2504848",
   "metadata": {},
   "outputs": [
    {
     "name": "stdout",
     "output_type": "stream",
     "text": [
      "Data:\n",
      " [['id', 'title', 'url', 'num_points', 'num_comments', 'author', 'created_at'], ['12224879', 'Interactive Dynamic Video', 'http://www.interactivedynamicvideo.com/', '386', '52', 'ne0phyte', '8/4/2016 11:52'], ['10975351', 'How to Use Open Source and Shut the Fuck Up at the Same Time', 'http://hueniverse.com/2016/01/26/how-to-use-open-source-and-shut-the-fuck-up-at-the-same-time/', '39', '10', 'josep2', '1/26/2016 19:30'], ['11964716', \"Florida DJs May Face Felony for April Fools' Water Joke\", 'http://www.thewire.com/entertainment/2013/04/florida-djs-april-fools-water-joke/63798/', '2', '1', 'vezycash', '6/23/2016 22:20'], ['11919867', 'Technology ventures: From Idea to Enterprise', 'https://www.amazon.com/Technology-Ventures-Enterprise-Thomas-Byers/dp/0073523429', '3', '1', 'hswarna', '6/17/2016 0:01']]\n"
     ]
    }
   ],
   "source": [
    "# Read in the data from hacker_news.csv\n",
    "# The data has been randomly sampled from the original data\n",
    "from csv import reader\n",
    "\n",
    "file = open('hacker_news.csv')\n",
    "data = reader(file)\n",
    "hn = list(data)\n",
    "\n",
    "print('Data:\\n {}'.format(hn[:5]))"
   ]
  },
  {
   "cell_type": "code",
   "execution_count": 2,
   "id": "10ea2fbc",
   "metadata": {},
   "outputs": [
    {
     "name": "stdout",
     "output_type": "stream",
     "text": [
      "Header:\n",
      "['id', 'title', 'url', 'num_points', 'num_comments', 'author', 'created_at']\n",
      "\n",
      "Updated data:\n",
      "[['12224879', 'Interactive Dynamic Video', 'http://www.interactivedynamicvideo.com/', '386', '52', 'ne0phyte', '8/4/2016 11:52'], ['10975351', 'How to Use Open Source and Shut the Fuck Up at the Same Time', 'http://hueniverse.com/2016/01/26/how-to-use-open-source-and-shut-the-fuck-up-at-the-same-time/', '39', '10', 'josep2', '1/26/2016 19:30'], ['11964716', \"Florida DJs May Face Felony for April Fools' Water Joke\", 'http://www.thewire.com/entertainment/2013/04/florida-djs-april-fools-water-joke/63798/', '2', '1', 'vezycash', '6/23/2016 22:20'], ['11919867', 'Technology ventures: From Idea to Enterprise', 'https://www.amazon.com/Technology-Ventures-Enterprise-Thomas-Byers/dp/0073523429', '3', '1', 'hswarna', '6/17/2016 0:01'], ['10301696', 'Note by Note: The Making of Steinway L1037 (2007)', 'http://www.nytimes.com/2007/11/07/movies/07stein.html?_r=0', '8', '2', 'walterbell', '9/30/2015 4:12']]\n"
     ]
    }
   ],
   "source": [
    "# Extract the header\n",
    "headers = hn[0]\n",
    "hn = hn[1:]\n",
    "\n",
    "print('Header:\\n{}'.format(headers))\n",
    "print('\\nUpdated data:\\n{}'.format(hn[:5]))"
   ]
  },
  {
   "cell_type": "markdown",
   "id": "af689709",
   "metadata": {},
   "source": [
    "## Data Cleaning\n",
    "To focus exclusively on post titles starting with `Ask HN` or `Show HN`, we will generate separate lists that solely include data pertaining to these specific titles."
   ]
  },
  {
   "cell_type": "code",
   "execution_count": 3,
   "id": "cf092eed",
   "metadata": {},
   "outputs": [
    {
     "name": "stdout",
     "output_type": "stream",
     "text": [
      "Number of posts in \"Ask HN\": 1744\n",
      "Number of posts in \"Show HN\": 1162\n",
      "Number of other posts: 17194\n"
     ]
    }
   ],
   "source": [
    "# Find the posts that begin with the key words\n",
    "# Separate them into three different lists\n",
    "ask_posts, show_posts, other_posts = [], [], []\n",
    "for row in hn:\n",
    "    title = row[1]\n",
    "    title_l = title.lower() # make it lower case because capitalization matters for startswith() \n",
    "    if title_l.startswith('ask hn'):\n",
    "        ask_posts.append(row)\n",
    "    elif title_l.startswith('show hn'):\n",
    "        show_posts.append(row)\n",
    "    else:\n",
    "        other_posts.append(row)\n",
    "        \n",
    "len_ask = len(ask_posts)\n",
    "len_show = len(show_posts)\n",
    "len_other = len(other_posts)\n",
    "print('Number of posts in \"Ask HN\": {}'.format(len_ask))\n",
    "print('Number of posts in \"Show HN\": {}'.format(len_show))\n",
    "print('Number of other posts: {}'.format(len_other))"
   ]
  },
  {
   "cell_type": "markdown",
   "id": "4792fc5f",
   "metadata": {},
   "source": [
    "## Data Analysis\n",
    "\n",
    "### [1] Average Number of Comments\n",
    "Let's analyze whether ask posts or show posts tend to receive a higher average number of comments."
   ]
  },
  {
   "cell_type": "code",
   "execution_count": 4,
   "id": "2e65e5f2",
   "metadata": {},
   "outputs": [
    {
     "name": "stdout",
     "output_type": "stream",
     "text": [
      "Total & Average number of comments in ask posts: 24483, 14.04\n",
      "Total & Average number of comments in show posts: 11988, 10.32\n"
     ]
    }
   ],
   "source": [
    "# Find the total number of comments in ask posts\n",
    "total_ask_comments = 0\n",
    "for row in ask_posts:\n",
    "    num = row[4]\n",
    "    total_ask_comments += int(num)\n",
    "avg_ask_comments = total_ask_comments/len_ask\n",
    "    \n",
    "# Find the total number of comments in show posts\n",
    "total_show_comments = 0\n",
    "for row in show_posts:\n",
    "    num = row[4]\n",
    "    total_show_comments += int(num)\n",
    "avg_show_comments = total_show_comments/len_show\n",
    "\n",
    "print('Total & Average number of comments in ask posts: {}, {:.2f}'.format(total_ask_comments,avg_ask_comments))\n",
    "print('Total & Average number of comments in show posts: {}, {:.2f}'.format(total_show_comments,avg_show_comments))"
   ]
  },
  {
   "cell_type": "markdown",
   "id": "2781e256",
   "metadata": {},
   "source": [
    "Both the total number of posts and the comments are higher for `Ask HN` posts, and the average number of comments in `Ask HN` posts is higher than `Show HN`. <br>\n",
    "Given that ask posts have a higher likelihood of receiving comments, we will narrow down our remaining analysis exclusively to __`Ask HN`__ posts.\n"
   ]
  },
  {
   "cell_type": "markdown",
   "id": "e33942a1",
   "metadata": {},
   "source": [
    "### [2] Timing of Posts\n",
    "\n",
    "In the following analysis, we will investigate whether there is a correlation between the timing of `Ask HN` posts and their likelihood of attracting comments."
   ]
  },
  {
   "cell_type": "code",
   "execution_count": 5,
   "id": "28937dbf",
   "metadata": {},
   "outputs": [
    {
     "name": "stdout",
     "output_type": "stream",
     "text": [
      "Hour-counts: \n",
      " {'09': 45, '13': 85, '10': 59, '14': 107, '16': 108, '23': 68, '12': 73, '17': 100, '15': 116, '21': 109, '20': 80, '02': 58, '18': 109, '03': 54, '05': 46, '19': 110, '01': 60, '22': 71, '08': 48, '04': 47, '00': 55, '06': 44, '07': 34, '11': 58}\n",
      "\n",
      "Hour-comments: \n",
      " {'09': 2, '13': 13, '10': 1, '14': 18, '16': 2, '23': 2, '12': 3, '17': 5, '15': 1, '21': 8, '20': 9, '02': 6, '18': 199, '03': 1, '05': 2, '19': 2, '01': 4, '22': 1, '08': 2, '04': 2, '00': 15, '06': 22, '07': 1, '11': 29}\n",
      "\n"
     ]
    }
   ],
   "source": [
    "# Calculate the number of ask posts created in each hour of the day, along with the number of comments received.\n",
    "import datetime as dt\n",
    "\n",
    "# Create a list of [date, number of comments]\n",
    "result_list = []\n",
    "for row in ask_posts:\n",
    "    result_list.append([row[-1],int(row[4])])\n",
    "    \n",
    "# Create frequency tables for:\n",
    "# 1. number of posts created in each hour \n",
    "# 2. number of comments created in each hour\n",
    "counts_by_hour, comments_by_hour = {}, {}\n",
    "for row in result_list:\n",
    "    time = row[0]\n",
    "    time_dt = dt.datetime.strptime(time, \"%m/%d/%Y %H:%M\")\n",
    "    hour = time_dt.strftime(\"%H\")\n",
    "    num_com = row[1]\n",
    "    \n",
    "    if hour not in counts_by_hour:\n",
    "        counts_by_hour[hour] = 1\n",
    "        comments_by_hour[hour] = row[1]\n",
    "    else:\n",
    "        counts_by_hour[hour] += 1\n",
    "        comments_by_hour[hour] = num_com\n",
    "\n",
    "print('Hour-counts: \\n {}\\n'.format(counts_by_hour))\n",
    "print('Hour-comments: \\n {}\\n'.format(comments_by_hour))"
   ]
  },
  {
   "cell_type": "code",
   "execution_count": 6,
   "id": "b6e17195",
   "metadata": {},
   "outputs": [
    {
     "name": "stdout",
     "output_type": "stream",
     "text": [
      "Hour-average number of comments: \n",
      " [['09', 0.044444444444444446], ['13', 0.15294117647058825], ['10', 0.01694915254237288], ['14', 0.16822429906542055], ['16', 0.018518518518518517], ['23', 0.029411764705882353], ['12', 0.0410958904109589], ['17', 0.05], ['15', 0.008620689655172414], ['21', 0.07339449541284404], ['20', 0.1125], ['02', 0.10344827586206896], ['18', 1.8256880733944953], ['03', 0.018518518518518517], ['05', 0.043478260869565216], ['19', 0.01818181818181818], ['01', 0.06666666666666667], ['22', 0.014084507042253521], ['08', 0.041666666666666664], ['04', 0.0425531914893617], ['00', 0.2727272727272727], ['06', 0.5], ['07', 0.029411764705882353], ['11', 0.5]]\n",
      "\n"
     ]
    }
   ],
   "source": [
    "# Calculate the average number of comments per post for post created during each hour of the day\n",
    "avg_by_hour = []\n",
    "for hour in comments_by_hour:\n",
    "    avg_by_hour.append([hour, comments_by_hour[hour]/counts_by_hour[hour]])\n",
    "    \n",
    "print('Hour-average number of comments: \\n {}\\n'.format(avg_by_hour))"
   ]
  },
  {
   "cell_type": "code",
   "execution_count": 7,
   "id": "ea47582d",
   "metadata": {},
   "outputs": [
    {
     "name": "stdout",
     "output_type": "stream",
     "text": [
      "18:00: 1.83 average comments per post\n",
      "11:00: 0.50 average comments per post\n",
      "06:00: 0.50 average comments per post\n",
      "00:00: 0.27 average comments per post\n",
      "14:00: 0.17 average comments per post\n",
      "13:00: 0.15 average comments per post\n",
      "20:00: 0.11 average comments per post\n",
      "02:00: 0.10 average comments per post\n",
      "21:00: 0.07 average comments per post\n",
      "01:00: 0.07 average comments per post\n",
      "17:00: 0.05 average comments per post\n",
      "09:00: 0.04 average comments per post\n",
      "05:00: 0.04 average comments per post\n",
      "04:00: 0.04 average comments per post\n",
      "08:00: 0.04 average comments per post\n",
      "12:00: 0.04 average comments per post\n",
      "23:00: 0.03 average comments per post\n",
      "07:00: 0.03 average comments per post\n",
      "16:00: 0.02 average comments per post\n",
      "03:00: 0.02 average comments per post\n",
      "19:00: 0.02 average comments per post\n",
      "10:00: 0.02 average comments per post\n",
      "22:00: 0.01 average comments per post\n",
      "15:00: 0.01 average comments per post\n",
      "\n",
      "Top 5 Hours for Ask Posts Comments: \n",
      " ['18', '11', '06', '00', '14']\n"
     ]
    },
    {
     "data": {
      "image/png": "[encoded data removed]",
      "text/plain": [
       "<Figure size 432x288 with 1 Axes>"
      ]
     },
     "metadata": {
      "needs_background": "light"
     },
     "output_type": "display_data"
    }
   ],
   "source": [
    "# Sorting the list in descending order\n",
    "swap_avg_by_hour = []\n",
    "for row in avg_by_hour:\n",
    "    # Swap the first and second items\n",
    "    swap_avg_by_hour.append([row[1],row[0]])\n",
    "# Sort the list\n",
    "sorted_bynum = sorted(swap_avg_by_hour,reverse=True)\n",
    "sorted_byhour = sorted(avg_by_hour)\n",
    "for row in sorted_bynum:\n",
    "    hour = row[1]\n",
    "    num = row[0]\n",
    "    hour_dt = dt.datetime.strptime(hour,\"%H\")\n",
    "    hour_format = hour_dt.strftime(\"%H:%M\")\n",
    "    print('{}: {:.2f} average comments per post'.format(hour_format, num))\n",
    "\n",
    "print('\\nTop 5 Hours for Ask Posts Comments: \\n {}'.format([row[1] for row in sorted_bynum[:5]]))\n",
    "\n",
    "# Plot out the total number of user ratings versus genre\n",
    "import matplotlib.pyplot as plt\n",
    "\n",
    "hour = [row[0] for row in sorted_byhour]\n",
    "num = [row[1] for row in sorted_byhour]\n",
    "\n",
    "plt.barh(range(len(hour)), num, tick_label=hour)\n",
    "plt.xlabel('Average Number of Comments', fontsize=15)\n",
    "plt.ylabel('Hour', fontsize=15)\n",
    "plt.rcParams['figure.figsize'] = [10, 10]\n",
    "plt.title('Ask HN Posts - Average Number of Comments by Hour')\n",
    "plt.show()"
   ]
  },
  {
   "cell_type": "markdown",
   "id": "f54086cc",
   "metadata": {},
   "source": [
    "6PM has the greatest average number of comments, so posting at 6 PM has a higher chance of receiving comments. The data is created at Eastern Time zone, and that will be 5PM CDT."
   ]
  },
  {
   "cell_type": "markdown",
   "id": "811cbf15",
   "metadata": {},
   "source": [
    "## Conclusions\n",
    "In this project, we've explored the factors that migh influence the number of comments by:\n",
    "- comparing the total and average number of comments for `Ask HN` and `Show HN` posts\n",
    "- comparing the average number of comments at different hours\n",
    "\n",
    "We have come to a conclusion that to gain a higher chance of receiving comments, it will be best to create the post at __6PM Eastern Time Zone__, which is __5PM CDT__.\n"
   ]
  }
 ],
 "metadata": {
  "kernelspec": {
   "display_name": "Python 3",
   "language": "python",
   "name": "python3"
  },
  "language_info": {
   "codemirror_mode": {
    "name": "ipython",
    "version": 3
   },
   "file_extension": ".py",
   "mimetype": "text/x-python",
   "name": "python",
   "nbconvert_exporter": "python",
   "pygments_lexer": "ipython3",
   "version": "3.8.8"
  }
 },
 "nbformat": 4,
 "nbformat_minor": 5
}
